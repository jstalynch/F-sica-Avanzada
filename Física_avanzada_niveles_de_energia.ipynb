{
  "nbformat": 4,
  "nbformat_minor": 0,
  "metadata": {
    "colab": {
      "provenance": []
    },
    "kernelspec": {
      "name": "python3",
      "display_name": "Python 3"
    },
    "language_info": {
      "name": "python"
    }
  },
  "cells": [
    {
      "cell_type": "code",
      "source": [
        "h = 6.63e-34  # Constante de Planck\n",
        "c = 3.0e8     # Velocidad de la luz\n",
        "ev_to_j = 1.6e-19  # Conversión de eV a Joules\n",
        "\n",
        "elementos = {\n",
        "    \"Aluminio\": 4.08, \"Berilio\": 5, \"Cadmio\": 4.07, \"Calcio\": 2.9, \"Carbono\": 4.81,\n",
        "    \"Cesio\": 2.1, \"Cobalto\": 5, \"Cobre\": 4.7, \"Oro\": 5.1, \"Hierro\": 4.7, \"Plomo\": 4.14,\n",
        "    \"Magnesio\": 3.68, \"Mercurio\": 4.5, \"Niquel\": 5.01, \"Niobio\": 4.3, \"Potasio\": 2.3,\n",
        "    \"Platino\": 6.35, \"Selenio\": 5.11, \"Plata\": 4.73, \"Sodio\": 2.28, \"Uranio\": 3.6, \"Zinc\": 4.3}\n",
        "\n",
        "#Para el cálculo de longitud de onda y frecuencia se hace uso de la ecuacion de Ec= hv-phi\n",
        "for elemento, fi_ev in elementos.items():\n",
        "    Phi = fi_ev * ev_to_j  # Convertir función de trabajo a Joules\n",
        "    v_min = Phi / h  #frecuencia mínima\n",
        "    lambda_max = (h * c) / Phi  # Longitud de onda máxima (m)\n",
        "\n",
        "    print(f\"{elemento}:\")\n",
        "    print(f\" - Frecuencia mínima necesaria: {v_min:.2e} Hz\")\n",
        "    print(f\" - Longitud de onda máxima permitida: {lambda_max * 1e9:.2f} nm\\n\")\n"
      ],
      "metadata": {
        "id": "PDw5mQjBogSK",
        "outputId": "437a944f-2ca8-4d61-dc02-236fa85d2647",
        "colab": {
          "base_uri": "https://localhost:8080/"
        }
      },
      "execution_count": null,
      "outputs": [
        {
          "output_type": "stream",
          "name": "stdout",
          "text": [
            "Aluminio:\n",
            " - Frecuencia mínima necesaria: 9.85e+14 Hz\n",
            " - Longitud de onda máxima permitida: 304.69 nm\n",
            "\n",
            "Berilio:\n",
            " - Frecuencia mínima necesaria: 1.21e+15 Hz\n",
            " - Longitud de onda máxima permitida: 248.62 nm\n",
            "\n",
            "Cadmio:\n",
            " - Frecuencia mínima necesaria: 9.82e+14 Hz\n",
            " - Longitud de onda máxima permitida: 305.44 nm\n",
            "\n",
            "Calcio:\n",
            " - Frecuencia mínima necesaria: 7.00e+14 Hz\n",
            " - Longitud de onda máxima permitida: 428.66 nm\n",
            "\n",
            "Carbono:\n",
            " - Frecuencia mínima necesaria: 1.16e+15 Hz\n",
            " - Longitud de onda máxima permitida: 258.45 nm\n",
            "\n",
            "Cesio:\n",
            " - Frecuencia mínima necesaria: 5.07e+14 Hz\n",
            " - Longitud de onda máxima permitida: 591.96 nm\n",
            "\n",
            "Cobalto:\n",
            " - Frecuencia mínima necesaria: 1.21e+15 Hz\n",
            " - Longitud de onda máxima permitida: 248.62 nm\n",
            "\n",
            "Cobre:\n",
            " - Frecuencia mínima necesaria: 1.13e+15 Hz\n",
            " - Longitud de onda máxima permitida: 264.49 nm\n",
            "\n",
            "Oro:\n",
            " - Frecuencia mínima necesaria: 1.23e+15 Hz\n",
            " - Longitud de onda máxima permitida: 243.75 nm\n",
            "\n",
            "Hierro:\n",
            " - Frecuencia mínima necesaria: 1.13e+15 Hz\n",
            " - Longitud de onda máxima permitida: 264.49 nm\n",
            "\n",
            "Plomo:\n",
            " - Frecuencia mínima necesaria: 9.99e+14 Hz\n",
            " - Longitud de onda máxima permitida: 300.27 nm\n",
            "\n",
            "Magnesio:\n",
            " - Frecuencia mínima necesaria: 8.88e+14 Hz\n",
            " - Longitud de onda máxima permitida: 337.81 nm\n",
            "\n",
            "Mercurio:\n",
            " - Frecuencia mínima necesaria: 1.09e+15 Hz\n",
            " - Longitud de onda máxima permitida: 276.25 nm\n",
            "\n",
            "Niquel:\n",
            " - Frecuencia mínima necesaria: 1.21e+15 Hz\n",
            " - Longitud de onda máxima permitida: 248.13 nm\n",
            "\n",
            "Niobio:\n",
            " - Frecuencia mínima necesaria: 1.04e+15 Hz\n",
            " - Longitud de onda máxima permitida: 289.10 nm\n",
            "\n",
            "Potasio:\n",
            " - Frecuencia mínima necesaria: 5.55e+14 Hz\n",
            " - Longitud de onda máxima permitida: 540.49 nm\n",
            "\n",
            "Platino:\n",
            " - Frecuencia mínima necesaria: 1.53e+15 Hz\n",
            " - Longitud de onda máxima permitida: 195.77 nm\n",
            "\n",
            "Selenio:\n",
            " - Frecuencia mínima necesaria: 1.23e+15 Hz\n",
            " - Longitud de onda máxima permitida: 243.27 nm\n",
            "\n",
            "Plata:\n",
            " - Frecuencia mínima necesaria: 1.14e+15 Hz\n",
            " - Longitud de onda máxima permitida: 262.82 nm\n",
            "\n",
            "Sodio:\n",
            " - Frecuencia mínima necesaria: 5.50e+14 Hz\n",
            " - Longitud de onda máxima permitida: 545.23 nm\n",
            "\n",
            "Uranio:\n",
            " - Frecuencia mínima necesaria: 8.69e+14 Hz\n",
            " - Longitud de onda máxima permitida: 345.31 nm\n",
            "\n",
            "Zinc:\n",
            " - Frecuencia mínima necesaria: 1.04e+15 Hz\n",
            " - Longitud de onda máxima permitida: 289.10 nm\n",
            "\n"
          ]
        }
      ]
    },
    {
      "cell_type": "code",
      "source": [
        "# Constantes\n",
        "c = 3.0e8\n",
        "h = 6.626e-34\n",
        "eV_to_J = 1.6e-19\n",
        "E0 = -13.6  # Energía del nivel 1 en eV\n",
        "\n",
        "# Niveles de energía a calcular\n",
        "n_initial = 1\n",
        "n_levels = range(2, 8)\n",
        "\n",
        "# Función para calcular energía y longitud de onda\n",
        "def calcular_transiciones(n_i, n_f):\n",
        "    E_i = E0 / n_i**2  # Energía en eV\n",
        "    E_f = E0 / n_f**2\n",
        "    delta_E = E_f - E_i  # Energía necesaria para la transición\n",
        "    delta_E_J = delta_E * eV_to_J  # Conversión a Joules\n",
        "    wavelength = (h * c) / delta_E_J\n",
        "    return delta_E, wavelength * 1e9\n",
        "\n",
        "# Cálculo de transiciones\n",
        "datos = []\n",
        "for n_f in n_levels:\n",
        "    energia, longitud_onda = calcular_transiciones(n_initial, n_f)\n",
        "    datos.append((n_initial, n_f, energia, longitud_onda))\n",
        "\n",
        "print(\"Transiciones desde n=1 a otros niveles en el átomo de hidrógeno:\")\n",
        "print(\"Nivel Inicial | Nivel Final | Energía (eV) | Longitud de Onda (nm)\")\n",
        "for n_i, n_f, e, w in datos:\n",
        "    print(f\"{n_i:^13} | {n_f:^11} | {e:^12.2f} | {w:^20.2f}\")\n"
      ],
      "metadata": {
        "colab": {
          "base_uri": "https://localhost:8080/"
        },
        "id": "8pEkbszzpwUw",
        "outputId": "d50673e0-d63e-45d4-f7d5-6d729fa26b04"
      },
      "execution_count": null,
      "outputs": [
        {
          "output_type": "stream",
          "name": "stdout",
          "text": [
            "Transiciones desde n=1 a otros niveles en el átomo de hidrógeno:\n",
            "Nivel Inicial | Nivel Final | Energía (eV) | Longitud de Onda (nm)\n",
            "      1       |      2      |    10.20     |        121.80       \n",
            "      1       |      3      |    12.09     |        102.77       \n",
            "      1       |      4      |    12.75     |        97.44        \n",
            "      1       |      5      |    13.06     |        95.16        \n",
            "      1       |      6      |    13.22     |        93.96        \n",
            "      1       |      7      |    13.32     |        93.25        \n"
          ]
        }
      ]
    }
  ]
}
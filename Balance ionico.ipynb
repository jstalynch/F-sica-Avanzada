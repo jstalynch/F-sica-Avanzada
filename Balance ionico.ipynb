{
 "cells": [
  {
   "cell_type": "code",
   "execution_count": 1,
   "id": "2a461aee",
   "metadata": {},
   "outputs": [
    {
     "name": "stdout",
     "output_type": "stream",
     "text": [
      "Área de membrana (cm^2): 1.2566370614359173e-05\n",
      "Corriente total (pA): 12.124662687264447\n",
      "Conductancia específica gK (mS/cm^2): 0.048242500000000015\n",
      "Conductancia total GK (mS): 6.062331343632226e-07\n",
      "Porcentaje de gK respecto al máximo (%): 0.1340069444444445\n"
     ]
    }
   ],
   "source": [
    "import numpy as np\n",
    "\n",
    "# Datos del problema\n",
    "l_cm = 40e-4        # Longitud de la célula en cm (40 µm)\n",
    "D_cm = 10e-4        # Diámetro de la célula en cm (10 µm)\n",
    "J_K = 10e-12        # Flujo de K+ en mol/cm^2/s\n",
    "F = 96485           # Constante de Faraday en C/mol\n",
    "Vm = -70e-3         # Potencial de membrana en voltios\n",
    "EK = -90e-3         # Potencial de equilibrio del potasio en voltios\n",
    "gK_max = 36         # Conductancia máxima en mS/cm^2\n",
    "\n",
    "# 1. Área de la membrana (superficie lateral del cilindro)\n",
    "A = np.pi * D_cm * l_cm  # Área en cm^2\n",
    "\n",
    "# 2. Corriente eléctrica total (I)\n",
    "I = F * J_K * A          # Corriente en Amperios\n",
    "I_pA = I * 1e12          # Corriente en picoamperios\n",
    "\n",
    "# 3. Conductancia específica (gK)\n",
    "deltaV = Vm - EK                     # Diferencia de potencial en voltios\n",
    "gK = I / (A * deltaV)                # Conductancia en S/cm^2\n",
    "gK_mS = gK * 1e3                     # Conductancia en mS/cm^2\n",
    "\n",
    "# 4. Conductancia total (GK)\n",
    "GK = gK * A           # Conductancia total en S\n",
    "GK_mS = GK * 1e3      # Conductancia total en mS\n",
    "\n",
    "# 5. Porcentaje de gK respecto al máximo\n",
    "porcentaje = (gK_mS / gK_max) * 100\n",
    "\n",
    "# Mostrar resultados\n",
    "print(\"Área de membrana (cm^2):\", A)\n",
    "print(\"Corriente total (pA):\", I_pA)\n",
    "print(\"Conductancia específica gK (mS/cm^2):\", gK_mS)\n",
    "print(\"Conductancia total GK (mS):\", GK_mS)\n",
    "print(\"Porcentaje de gK respecto al máximo (%):\", porcentaje)\n"
   ]
  }
 ],
 "metadata": {
  "kernelspec": {
   "display_name": "base",
   "language": "python",
   "name": "python3"
  },
  "language_info": {
   "codemirror_mode": {
    "name": "ipython",
    "version": 3
   },
   "file_extension": ".py",
   "mimetype": "text/x-python",
   "name": "python",
   "nbconvert_exporter": "python",
   "pygments_lexer": "ipython3",
   "version": "3.12.7"
  }
 },
 "nbformat": 4,
 "nbformat_minor": 5
}
